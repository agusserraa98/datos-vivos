{
  "nbformat": 4,
  "nbformat_minor": 0,
  "metadata": {
    "colab": {
      "provenance": [],
      "collapsed_sections": [],
      "history_visible": true,
      "include_colab_link": true
    },
    "kernelspec": {
      "name": "python3",
      "display_name": "Python 3"
    },
    "language_info": {
      "name": "python"
    }
  },
  "cells": [
    {
      "cell_type": "markdown",
      "metadata": {
        "id": "view-in-github",
        "colab_type": "text"
      },
      "source": [
        "<a href=\"https://colab.research.google.com/github/agusserraa98/datos-vivos/blob/main/rabajamos_con_d%C3%ADas.ipynb\" target=\"_parent\"><img src=\"https://colab.research.google.com/assets/colab-badge.svg\" alt=\"Open In Colab\"/></a>"
      ]
    },
    {
      "cell_type": "markdown",
      "source": [
        "![](https://github.com/nico-edvai/images/blob/main/header_edvai.jpg?raw=true)"
      ],
      "metadata": {
        "id": "qWWxTJIpR-Ij"
      }
    },
    {
      "cell_type": "markdown",
      "source": [
        "# A partir del siguiente dataset del clima ☀⛅🌦🌧 obtener:\n",
        "\n",
        "\n",
        "1.   Hallar el cantidad de lunes en todo el dataset (35 años)\n",
        "2.   Hallar el promedio de **Precipitation** durante todos los fines de semana (sabados y domingos) del dataset\n",
        "3.   Hallar el promedio de **Longitude** durante todos los días miércoles del dataset\n",
        "\n",
        "\n"
      ],
      "metadata": {
        "id": "bBpsEbycSF-V"
      }
    },
    {
      "cell_type": "markdown",
      "source": [
        "## Lo pueden resolver con R o Python"
      ],
      "metadata": {
        "id": "eKwV2iW3JY4r"
      }
    },
    {
      "cell_type": "code",
      "source": [
        "import pandas as pd"
      ],
      "metadata": {
        "id": "xMIk8AObIVQX"
      },
      "execution_count": null,
      "outputs": []
    },
    {
      "cell_type": "code",
      "source": [
        "ruta = \"https://raw.githubusercontent.com/nico-edvai/scipy-2022-salta/main/data/weatherdata--304-622.csv\"\n",
        "df_weather = pd.read_csv(ruta)\n",
        "df_weather"
      ],
      "metadata": {
        "colab": {
          "base_uri": "https://localhost:8080/",
          "height": 505
        },
        "id": "l7fFFwXyIUA0",
        "outputId": "8eb51a48-6c3a-4c9e-cb3a-d504e274f975"
      },
      "execution_count": null,
      "outputs": [
        {
          "output_type": "execute_result",
          "data": {
            "text/plain": [
              "            Date  Longitude   Latitude  Elevation  Max Temperature  \\\n",
              "0       1/1/1979   -62.1875 -30.442301         75           34.968   \n",
              "1       1/2/1979   -62.1875 -30.442301         75           32.055   \n",
              "2       1/3/1979   -62.1875 -30.442301         75           32.643   \n",
              "3       1/4/1979   -62.1875 -30.442301         75           33.438   \n",
              "4       1/5/1979   -62.1875 -30.442301         75           35.729   \n",
              "...          ...        ...        ...        ...              ...   \n",
              "12982  7/27/2014   -62.1875 -30.442301         75           15.938   \n",
              "12983  7/28/2014   -62.1875 -30.442301         75           20.470   \n",
              "12984  7/29/2014   -62.1875 -30.442301         75           22.072   \n",
              "12985  7/30/2014   -62.1875 -30.442301         75           18.200   \n",
              "12986  7/31/2014   -62.1875 -30.442301         75           22.298   \n",
              "\n",
              "       Min Temperature  Precipitation      Wind  Relative Humidity      Solar  \\\n",
              "0               18.019       0.346756  3.459731           0.539945  32.456311   \n",
              "1               21.653      10.099693  3.182952           0.810696  20.985752   \n",
              "2               19.994       0.000000  3.529763           0.638956  28.406983   \n",
              "3               19.572       0.000000  3.430782           0.480420  30.222842   \n",
              "4               20.306       0.000000  3.149614           0.445070  30.734881   \n",
              "...                ...            ...       ...                ...        ...   \n",
              "12982            5.081       0.000000  2.627763           0.639303  13.388504   \n",
              "12983            6.121       0.000000  3.853856           0.698549  15.112251   \n",
              "12984           12.764       0.209427  2.890072           0.785835   6.979922   \n",
              "12985           15.068       2.204133  2.457414           0.827991   1.954017   \n",
              "12986           15.538       1.692579  1.438762           0.841980   8.233861   \n",
              "\n",
              "       Unnamed: 10  \n",
              "0              NaN  \n",
              "1              NaN  \n",
              "2              NaN  \n",
              "3              NaN  \n",
              "4              NaN  \n",
              "...            ...  \n",
              "12982          NaN  \n",
              "12983          NaN  \n",
              "12984          NaN  \n",
              "12985          NaN  \n",
              "12986          NaN  \n",
              "\n",
              "[12987 rows x 11 columns]"
            ],
            "text/html": [
              "\n",
              "  <div id=\"df-4cdd27e6-51c6-4c22-9596-3489c8b1cc73\">\n",
              "    <div class=\"colab-df-container\">\n",
              "      <div>\n",
              "<style scoped>\n",
              "    .dataframe tbody tr th:only-of-type {\n",
              "        vertical-align: middle;\n",
              "    }\n",
              "\n",
              "    .dataframe tbody tr th {\n",
              "        vertical-align: top;\n",
              "    }\n",
              "\n",
              "    .dataframe thead th {\n",
              "        text-align: right;\n",
              "    }\n",
              "</style>\n",
              "<table border=\"1\" class=\"dataframe\">\n",
              "  <thead>\n",
              "    <tr style=\"text-align: right;\">\n",
              "      <th></th>\n",
              "      <th>Date</th>\n",
              "      <th>Longitude</th>\n",
              "      <th>Latitude</th>\n",
              "      <th>Elevation</th>\n",
              "      <th>Max Temperature</th>\n",
              "      <th>Min Temperature</th>\n",
              "      <th>Precipitation</th>\n",
              "      <th>Wind</th>\n",
              "      <th>Relative Humidity</th>\n",
              "      <th>Solar</th>\n",
              "      <th>Unnamed: 10</th>\n",
              "    </tr>\n",
              "  </thead>\n",
              "  <tbody>\n",
              "    <tr>\n",
              "      <th>0</th>\n",
              "      <td>1/1/1979</td>\n",
              "      <td>-62.1875</td>\n",
              "      <td>-30.442301</td>\n",
              "      <td>75</td>\n",
              "      <td>34.968</td>\n",
              "      <td>18.019</td>\n",
              "      <td>0.346756</td>\n",
              "      <td>3.459731</td>\n",
              "      <td>0.539945</td>\n",
              "      <td>32.456311</td>\n",
              "      <td>NaN</td>\n",
              "    </tr>\n",
              "    <tr>\n",
              "      <th>1</th>\n",
              "      <td>1/2/1979</td>\n",
              "      <td>-62.1875</td>\n",
              "      <td>-30.442301</td>\n",
              "      <td>75</td>\n",
              "      <td>32.055</td>\n",
              "      <td>21.653</td>\n",
              "      <td>10.099693</td>\n",
              "      <td>3.182952</td>\n",
              "      <td>0.810696</td>\n",
              "      <td>20.985752</td>\n",
              "      <td>NaN</td>\n",
              "    </tr>\n",
              "    <tr>\n",
              "      <th>2</th>\n",
              "      <td>1/3/1979</td>\n",
              "      <td>-62.1875</td>\n",
              "      <td>-30.442301</td>\n",
              "      <td>75</td>\n",
              "      <td>32.643</td>\n",
              "      <td>19.994</td>\n",
              "      <td>0.000000</td>\n",
              "      <td>3.529763</td>\n",
              "      <td>0.638956</td>\n",
              "      <td>28.406983</td>\n",
              "      <td>NaN</td>\n",
              "    </tr>\n",
              "    <tr>\n",
              "      <th>3</th>\n",
              "      <td>1/4/1979</td>\n",
              "      <td>-62.1875</td>\n",
              "      <td>-30.442301</td>\n",
              "      <td>75</td>\n",
              "      <td>33.438</td>\n",
              "      <td>19.572</td>\n",
              "      <td>0.000000</td>\n",
              "      <td>3.430782</td>\n",
              "      <td>0.480420</td>\n",
              "      <td>30.222842</td>\n",
              "      <td>NaN</td>\n",
              "    </tr>\n",
              "    <tr>\n",
              "      <th>4</th>\n",
              "      <td>1/5/1979</td>\n",
              "      <td>-62.1875</td>\n",
              "      <td>-30.442301</td>\n",
              "      <td>75</td>\n",
              "      <td>35.729</td>\n",
              "      <td>20.306</td>\n",
              "      <td>0.000000</td>\n",
              "      <td>3.149614</td>\n",
              "      <td>0.445070</td>\n",
              "      <td>30.734881</td>\n",
              "      <td>NaN</td>\n",
              "    </tr>\n",
              "    <tr>\n",
              "      <th>...</th>\n",
              "      <td>...</td>\n",
              "      <td>...</td>\n",
              "      <td>...</td>\n",
              "      <td>...</td>\n",
              "      <td>...</td>\n",
              "      <td>...</td>\n",
              "      <td>...</td>\n",
              "      <td>...</td>\n",
              "      <td>...</td>\n",
              "      <td>...</td>\n",
              "      <td>...</td>\n",
              "    </tr>\n",
              "    <tr>\n",
              "      <th>12982</th>\n",
              "      <td>7/27/2014</td>\n",
              "      <td>-62.1875</td>\n",
              "      <td>-30.442301</td>\n",
              "      <td>75</td>\n",
              "      <td>15.938</td>\n",
              "      <td>5.081</td>\n",
              "      <td>0.000000</td>\n",
              "      <td>2.627763</td>\n",
              "      <td>0.639303</td>\n",
              "      <td>13.388504</td>\n",
              "      <td>NaN</td>\n",
              "    </tr>\n",
              "    <tr>\n",
              "      <th>12983</th>\n",
              "      <td>7/28/2014</td>\n",
              "      <td>-62.1875</td>\n",
              "      <td>-30.442301</td>\n",
              "      <td>75</td>\n",
              "      <td>20.470</td>\n",
              "      <td>6.121</td>\n",
              "      <td>0.000000</td>\n",
              "      <td>3.853856</td>\n",
              "      <td>0.698549</td>\n",
              "      <td>15.112251</td>\n",
              "      <td>NaN</td>\n",
              "    </tr>\n",
              "    <tr>\n",
              "      <th>12984</th>\n",
              "      <td>7/29/2014</td>\n",
              "      <td>-62.1875</td>\n",
              "      <td>-30.442301</td>\n",
              "      <td>75</td>\n",
              "      <td>22.072</td>\n",
              "      <td>12.764</td>\n",
              "      <td>0.209427</td>\n",
              "      <td>2.890072</td>\n",
              "      <td>0.785835</td>\n",
              "      <td>6.979922</td>\n",
              "      <td>NaN</td>\n",
              "    </tr>\n",
              "    <tr>\n",
              "      <th>12985</th>\n",
              "      <td>7/30/2014</td>\n",
              "      <td>-62.1875</td>\n",
              "      <td>-30.442301</td>\n",
              "      <td>75</td>\n",
              "      <td>18.200</td>\n",
              "      <td>15.068</td>\n",
              "      <td>2.204133</td>\n",
              "      <td>2.457414</td>\n",
              "      <td>0.827991</td>\n",
              "      <td>1.954017</td>\n",
              "      <td>NaN</td>\n",
              "    </tr>\n",
              "    <tr>\n",
              "      <th>12986</th>\n",
              "      <td>7/31/2014</td>\n",
              "      <td>-62.1875</td>\n",
              "      <td>-30.442301</td>\n",
              "      <td>75</td>\n",
              "      <td>22.298</td>\n",
              "      <td>15.538</td>\n",
              "      <td>1.692579</td>\n",
              "      <td>1.438762</td>\n",
              "      <td>0.841980</td>\n",
              "      <td>8.233861</td>\n",
              "      <td>NaN</td>\n",
              "    </tr>\n",
              "  </tbody>\n",
              "</table>\n",
              "<p>12987 rows × 11 columns</p>\n",
              "</div>\n",
              "      <button class=\"colab-df-convert\" onclick=\"convertToInteractive('df-4cdd27e6-51c6-4c22-9596-3489c8b1cc73')\"\n",
              "              title=\"Convert this dataframe to an interactive table.\"\n",
              "              style=\"display:none;\">\n",
              "        \n",
              "  <svg xmlns=\"http://www.w3.org/2000/svg\" height=\"24px\"viewBox=\"0 0 24 24\"\n",
              "       width=\"24px\">\n",
              "    <path d=\"M0 0h24v24H0V0z\" fill=\"none\"/>\n",
              "    <path d=\"M18.56 5.44l.94 2.06.94-2.06 2.06-.94-2.06-.94-.94-2.06-.94 2.06-2.06.94zm-11 1L8.5 8.5l.94-2.06 2.06-.94-2.06-.94L8.5 2.5l-.94 2.06-2.06.94zm10 10l.94 2.06.94-2.06 2.06-.94-2.06-.94-.94-2.06-.94 2.06-2.06.94z\"/><path d=\"M17.41 7.96l-1.37-1.37c-.4-.4-.92-.59-1.43-.59-.52 0-1.04.2-1.43.59L10.3 9.45l-7.72 7.72c-.78.78-.78 2.05 0 2.83L4 21.41c.39.39.9.59 1.41.59.51 0 1.02-.2 1.41-.59l7.78-7.78 2.81-2.81c.8-.78.8-2.07 0-2.86zM5.41 20L4 18.59l7.72-7.72 1.47 1.35L5.41 20z\"/>\n",
              "  </svg>\n",
              "      </button>\n",
              "      \n",
              "  <style>\n",
              "    .colab-df-container {\n",
              "      display:flex;\n",
              "      flex-wrap:wrap;\n",
              "      gap: 12px;\n",
              "    }\n",
              "\n",
              "    .colab-df-convert {\n",
              "      background-color: #E8F0FE;\n",
              "      border: none;\n",
              "      border-radius: 50%;\n",
              "      cursor: pointer;\n",
              "      display: none;\n",
              "      fill: #1967D2;\n",
              "      height: 32px;\n",
              "      padding: 0 0 0 0;\n",
              "      width: 32px;\n",
              "    }\n",
              "\n",
              "    .colab-df-convert:hover {\n",
              "      background-color: #E2EBFA;\n",
              "      box-shadow: 0px 1px 2px rgba(60, 64, 67, 0.3), 0px 1px 3px 1px rgba(60, 64, 67, 0.15);\n",
              "      fill: #174EA6;\n",
              "    }\n",
              "\n",
              "    [theme=dark] .colab-df-convert {\n",
              "      background-color: #3B4455;\n",
              "      fill: #D2E3FC;\n",
              "    }\n",
              "\n",
              "    [theme=dark] .colab-df-convert:hover {\n",
              "      background-color: #434B5C;\n",
              "      box-shadow: 0px 1px 3px 1px rgba(0, 0, 0, 0.15);\n",
              "      filter: drop-shadow(0px 1px 2px rgba(0, 0, 0, 0.3));\n",
              "      fill: #FFFFFF;\n",
              "    }\n",
              "  </style>\n",
              "\n",
              "      <script>\n",
              "        const buttonEl =\n",
              "          document.querySelector('#df-4cdd27e6-51c6-4c22-9596-3489c8b1cc73 button.colab-df-convert');\n",
              "        buttonEl.style.display =\n",
              "          google.colab.kernel.accessAllowed ? 'block' : 'none';\n",
              "\n",
              "        async function convertToInteractive(key) {\n",
              "          const element = document.querySelector('#df-4cdd27e6-51c6-4c22-9596-3489c8b1cc73');\n",
              "          const dataTable =\n",
              "            await google.colab.kernel.invokeFunction('convertToInteractive',\n",
              "                                                     [key], {});\n",
              "          if (!dataTable) return;\n",
              "\n",
              "          const docLinkHtml = 'Like what you see? Visit the ' +\n",
              "            '<a target=\"_blank\" href=https://colab.research.google.com/notebooks/data_table.ipynb>data table notebook</a>'\n",
              "            + ' to learn more about interactive tables.';\n",
              "          element.innerHTML = '';\n",
              "          dataTable['output_type'] = 'display_data';\n",
              "          await google.colab.output.renderOutput(dataTable, element);\n",
              "          const docLink = document.createElement('div');\n",
              "          docLink.innerHTML = docLinkHtml;\n",
              "          element.appendChild(docLink);\n",
              "        }\n",
              "      </script>\n",
              "    </div>\n",
              "  </div>\n",
              "  "
            ]
          },
          "metadata": {},
          "execution_count": 94
        }
      ]
    },
    {
      "cell_type": "code",
      "source": [
        "# Convierto el str Date en un objeto DateTime para poder usar sus propiedades\n",
        "df_weather['Date'] = pd.to_datetime(df_weather['Date'])"
      ],
      "metadata": {
        "id": "ehhm89RPBlhR"
      },
      "execution_count": null,
      "outputs": []
    },
    {
      "cell_type": "code",
      "source": [
        "df_weather.info()"
      ],
      "metadata": {
        "id": "m8LsxVO8FX_P",
        "outputId": "b554c24a-ad99-42bc-e542-43c5d1058a1d",
        "colab": {
          "base_uri": "https://localhost:8080/"
        }
      },
      "execution_count": null,
      "outputs": [
        {
          "output_type": "stream",
          "name": "stdout",
          "text": [
            "<class 'pandas.core.frame.DataFrame'>\n",
            "RangeIndex: 12987 entries, 0 to 12986\n",
            "Data columns (total 11 columns):\n",
            " #   Column             Non-Null Count  Dtype         \n",
            "---  ------             --------------  -----         \n",
            " 0   Date               12987 non-null  datetime64[ns]\n",
            " 1   Longitude          12987 non-null  float64       \n",
            " 2   Latitude           12987 non-null  float64       \n",
            " 3   Elevation          12987 non-null  int64         \n",
            " 4   Max Temperature    12987 non-null  float64       \n",
            " 5   Min Temperature    12987 non-null  float64       \n",
            " 6   Precipitation      12987 non-null  float64       \n",
            " 7   Wind               12987 non-null  float64       \n",
            " 8   Relative Humidity  12987 non-null  float64       \n",
            " 9   Solar              12987 non-null  float64       \n",
            " 10  Unnamed: 10        0 non-null      float64       \n",
            "dtypes: datetime64[ns](1), float64(9), int64(1)\n",
            "memory usage: 1.1 MB\n"
          ]
        }
      ]
    },
    {
      "cell_type": "markdown",
      "source": [
        "### Pregunta 1\n",
        "\n",
        "\n",
        "\n"
      ],
      "metadata": {
        "id": "6oJs4esDTqTa"
      }
    },
    {
      "cell_type": "code",
      "source": [
        "# Recorro el dataset con el for y obtengo el dia con el metodo weekday, luego\n",
        "# verifico si es lunes(dia = 0) \n",
        "count_lunes = 0;\n",
        "count_miercoles = 0;\n",
        "for i in range(len(df_weather)):\n",
        "  dia = df_weather.iloc[i][\"Date\"].weekday()\n",
        "  if dia == 0: # Si es lunes\n",
        "    count_lunes = count_lunes +1 \n",
        "print(\"Hay %d\" % count_lunes)"
      ],
      "metadata": {
        "id": "Uo8UF6jmNKXf",
        "outputId": "36219f1b-6bdd-4710-eace-28b76df68ef0",
        "colab": {
          "base_uri": "https://localhost:8080/"
        }
      },
      "execution_count": null,
      "outputs": [
        {
          "output_type": "stream",
          "name": "stdout",
          "text": [
            "Hay 1856\n"
          ]
        }
      ]
    },
    {
      "cell_type": "markdown",
      "source": [
        "### Pregunta 2"
      ],
      "metadata": {
        "id": "31npxvZtT0e1"
      }
    },
    {
      "cell_type": "code",
      "source": [
        "# Lo mismo que antes solamente que ahora la condicion son dos dias(sabados y domingos)\n",
        "# voy acumulando las precipitaciones de cada dia y luego al total lo divido por \n",
        "# la cantidad de fines de semanas(count_findes/2 ya que contamos los dias y no\n",
        "# los findes en si )\n",
        "count_findes = 0;\n",
        "findes = [5,6]; # dias sabados y domingos\n",
        "precip_total = 0;\n",
        "for i in range(len(df_weather)):\n",
        "  dia = df_weather.iloc[i][\"Date\"].weekday()\n",
        "  if dia in findes: # Si es lunes\n",
        "    count_findes += 1\n",
        "    precip_total += df_weather.iloc[i][\"Precipitation\"]\n",
        "\n",
        "# Calculo precipitaciones promedio\n",
        "precip_promedio_findes = precip_total / (count_findes/2) \n",
        "print(\"Las precipitaciones promedios durante los fines de semanas fueron %f\" % precip_promedio_findes)"
      ],
      "metadata": {
        "id": "qHJ8lOQ2YGy4",
        "outputId": "794a7e46-7aa0-414b-eca0-618f2763d094",
        "colab": {
          "base_uri": "https://localhost:8080/"
        }
      },
      "execution_count": null,
      "outputs": [
        {
          "output_type": "stream",
          "name": "stdout",
          "text": [
            "Las precipitaciones promedios durante los fines de semanas fueron 4.427646\n"
          ]
        }
      ]
    }
  ]
}